{
 "cells": [
  {
   "cell_type": "code",
   "execution_count": 24,
   "metadata": {},
   "outputs": [],
   "source": [
    "# import required libs\n",
    "import numpy as np\n",
    "import pandas as pd\n",
    "\n",
    "import warnings\n",
    "import math\n",
    "import requests\n",
    "\n",
    "warnings.filterwarnings('ignore')"
   ]
  },
  {
   "cell_type": "code",
   "execution_count": 25,
   "metadata": {},
   "outputs": [
    {
     "name": "stdout",
     "output_type": "stream",
     "text": [
      "0       [DF] CSTB4\n",
      "1       [DF] CFLU4\n",
      "2       [DF] POPR4\n",
      "3       [DF] MNSA3\n",
      "4       [DF] CLAN3\n",
      "          ...     \n",
      "982    [DF] UBBR11\n",
      "983     [DF] GUAR4\n",
      "984     [DF] UBBR3\n",
      "985     [DF] MLFT4\n",
      "986    [DF] BBTG12\n",
      "Name: Papel, Length: 987, dtype: object\n"
     ]
    }
   ],
   "source": [
    "# fetching a data table from the Fundamentus site and creating a dataFrame\n",
    "url = 'https://www.fundamentus.com.br/resultado.php'\n",
    "\n",
    "header = {\n",
    "    \"User-Agent\":\"Mozilla/5.0 (Windows NT 6.1) AppleWebKit/537.36 (KHTML, like Gecko) Chrome/41.0.2228.0 Safari/537.3\"\n",
    "}\n",
    "\n",
    "# get HTML from URL\n",
    "req = requests.get(url, headers=header)\n",
    "# read the HTML preparing the data\n",
    "dataFrame = pd.read_html(req.text, decimal=',', thousands='.')[0]\n",
    "\n",
    "print(\"[DF] \" + dataFrame['Papel'])"
   ]
  },
  {
   "cell_type": "code",
   "execution_count": 26,
   "metadata": {},
   "outputs": [],
   "source": [
    "# dataFrame data handling\n",
    "for column in ['Div.Yield', 'Mrg Ebit', 'Mrg. Líq.', 'ROIC', 'ROE', 'Cresc. Rec.5a']:\n",
    "    dataFrame[column] = dataFrame[column].str.replace('.', '')\n",
    "    dataFrame[column] = dataFrame[column].str.replace(',', '.')\n",
    "    dataFrame[column] = dataFrame[column].str.rstrip('%').astype('float') / 100\n",
    "\n",
    "# filtering only companies with stock market liquidity\n",
    "dataFrame = dataFrame[ (dataFrame['Liq.2meses'] > 1000000) & (dataFrame['P/L'] > 0 ) ]"
   ]
  },
  {
   "cell_type": "code",
   "execution_count": 31,
   "metadata": {},
   "outputs": [
    {
     "name": "stdout",
     "output_type": "stream",
     "text": [
      "    pos EV/EBIT     P/L    ROE    ROIC\n",
      "0     1   PSSA3   MRFG3  BEEF3   UNIP6\n",
      "1     2   GOAU3   LUPA3  BBSE3   UNIP3\n",
      "2     3   GOAU4   PETR4  MRFG3   PSSA3\n",
      "3     4   PETR4   PETR3  SUZB3   KEPL3\n",
      "4     5   PETR3   SUZB3  KEPL3   FESA4\n",
      "..  ...     ...     ...    ...     ...\n",
      "95   96   EGIE3   BPAN4  GMAT3   USIM3\n",
      "96   97   SBFG3  SANB11  TRPL4   COCE5\n",
      "97   98   AMBP3   BLAU3  PORT3   DXCO3\n",
      "98   99   TIMS3   SMTO3  JSLG3  ENGI11\n",
      "99  100   TAEE3   USIM5  BOAS3   CSMG3\n",
      "\n",
      "[100 rows x 5 columns]\n"
     ]
    }
   ],
   "source": [
    "# creating ranking through Joel Greenblatt's magic formulas\n",
    "ranking = pd.DataFrame()\n",
    "# ranking of 100 positions\n",
    "ranking['pos'] = range(1,101)\n",
    "# ranks the top 100 stocks in terms and EV/EBIT\n",
    "ranking['EV/EBIT'] = dataFrame[ dataFrame['EV/EBIT'] > 0 ].sort_values(by=['EV/EBIT'])['Papel'][:100].values\n",
    "# ranks the best 100 shares in terms and P/L\n",
    "ranking[ 'P/L'] = dataFrame.sort_values(by=['P/L'])['Papel'][:100].values\n",
    "# ranks the top 100 stocks in terms of ROE\n",
    "ranking['ROE'] = dataFrame.sort_values(by=['ROE'], ascending=False)['Papel'][:100].values\n",
    "# ranks the top 100 stocks in terms of ROIC\n",
    "ranking['ROIC'] = dataFrame.sort_values(by=['ROIC'], ascending=False)['Papel'][:100].values\n",
    "# print the ranking\n",
    "print(ranking)"
   ]
  },
  {
   "cell_type": "code",
   "execution_count": 32,
   "metadata": {},
   "outputs": [
    {
     "name": "stdout",
     "output_type": "stream",
     "text": [
      "     ALUP11  AMBP3  ASAI3  AURA33  BEEF3  BLAU3  BMOB3  BRIT3  CBAV3  CCRO3  \\\n",
      "pos    52.0   98.0   62.0      56     42     72   69.0   92.0     28     39   \n",
      "pos    91.0    NaN   45.0      35     28     15   62.0    NaN     93     25   \n",
      "pos    86.0    NaN    NaN      76     75     98    NaN    NaN     16     58   \n",
      "pos     NaN    NaN   32.0      53      1     64    NaN    NaN     82     21   \n",
      "\n",
      "     ...  POMO3  POMO4  SANB11  SANB3  SMTO3  TRIS3  BBSE3  BPAC11  CXSE3  \\\n",
      "pos  ...    NaN    NaN     NaN    NaN    NaN    NaN    NaN     NaN    NaN   \n",
      "pos  ...    NaN    NaN     NaN    NaN    NaN    NaN    NaN     NaN    NaN   \n",
      "pos  ...   47.0   67.0    97.0   88.0   99.0   89.0    NaN     NaN    NaN   \n",
      "pos  ...   94.0   95.0     NaN    NaN   67.0    NaN    2.0    73.0   39.0   \n",
      "\n",
      "     PORT3  \n",
      "pos    NaN  \n",
      "pos    NaN  \n",
      "pos    NaN  \n",
      "pos   98.0  \n",
      "\n",
      "[4 rows x 156 columns]\n"
     ]
    }
   ],
   "source": [
    "# handling ranking dataFrame\n",
    "a = ranking.pivot_table(columns='EV/EBIT')\n",
    "b = ranking.pivot_table(columns='ROIC')\n",
    "c = ranking.pivot_table(columns='P/L')\n",
    "d = ranking.pivot_table(columns='ROE')\n",
    "table = pd.concat([a,b,c,d])\n",
    "\n",
    "print(table)"
   ]
  },
  {
   "cell_type": "code",
   "execution_count": 33,
   "metadata": {},
   "outputs": [
    {
     "name": "stdout",
     "output_type": "stream",
     "text": [
      "PETR4     25\n",
      "PETR3     27\n",
      "KEPL3     31\n",
      "UNIP3     50\n",
      "TASA4     54\n",
      "UNIP6     56\n",
      "VALE3     68\n",
      "FESA4     70\n",
      "GOAU4     78\n",
      "GOAU3     78\n",
      "GGBR3     85\n",
      "GGBR4     90\n",
      "SUZB3     91\n",
      "RECV3    107\n",
      "WIZC3    118\n",
      "RANI3    132\n",
      "PTBL3    141\n",
      "CCRO3    143\n",
      "BEEF3    146\n",
      "LEVE3    148\n",
      "dtype: int64\n"
     ]
    }
   ],
   "source": [
    "# excluding assets that have any missing data and leaving only the first 10 for use\n",
    "rank = table.dropna(axis=1).sum()\n",
    "# printing rank\n",
    "rank = rank.sort_values()[:20]\n",
    "print(rank)"
   ]
  },
  {
   "cell_type": "code",
   "execution_count": 35,
   "metadata": {},
   "outputs": [
    {
     "name": "stdout",
     "output_type": "stream",
     "text": [
      "Lista de ativos recomendados seguindo a Formula Magica e filtrados pelo preço justo de Graham:\n",
      "['PETR4', 'PETR3', 'KEPL3', 'UNIP3', 'TASA4', 'UNIP6', 'VALE3', 'FESA4', 'GOAU4', 'GOAU3']\n"
     ]
    }
   ],
   "source": [
    "## STARTING BENJAMIN GRAHAM'S FAIR PRICE FILTER\n",
    "# setting dataFrame coming from the site by the name of the asset\n",
    "\n",
    "dataFrame2 = dataFrame.set_index('Papel')\n",
    "\n",
    "# creation and execution of the Graham filter\n",
    "indicate = []\n",
    "for i in range(10):\n",
    "    pl = dataFrame2.loc[rank.index[i], 'P/L']\n",
    "    pvp = dataFrame2.loc[rank.index[i], 'P/VP']\n",
    "    cot = dataFrame2.loc[rank.index[i], 'Cotação']\n",
    "    lpa = cot / pl\n",
    "    vpa = cot / pvp\n",
    "    grahamValue = math.sqrt(22.5 * lpa * vpa)\n",
    "    if (grahamValue > cot):\n",
    "        indicate.append(rank.index[i])\n",
    "\n",
    "print('Lista de ativos recomendados seguindo a Formula Mágica (Joel Greenblatt) e filtrados pelo preço justo de Graham:')\n",
    "print(indicate)"
   ]
  }
 ],
 "metadata": {
  "kernelspec": {
   "display_name": "Python 3",
   "language": "python",
   "name": "python3"
  },
  "language_info": {
   "codemirror_mode": {
    "name": "ipython",
    "version": 3
   },
   "file_extension": ".py",
   "mimetype": "text/x-python",
   "name": "python",
   "nbconvert_exporter": "python",
   "pygments_lexer": "ipython3",
   "version": "3.7.9"
  },
  "orig_nbformat": 4
 },
 "nbformat": 4,
 "nbformat_minor": 2
}
